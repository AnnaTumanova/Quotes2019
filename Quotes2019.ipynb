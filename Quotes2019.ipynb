{
 "cells": [
  {
   "cell_type": "markdown",
   "metadata": {},
   "source": [
    "# Quote for the inspiration 2019 up to you "
   ]
  },
  {
   "cell_type": "markdown",
   "metadata": {},
   "source": [
    "### Importing the most important libraries\n",
    "#### BeautifulSoup for the scrapping the data; urllib parsing the url to the appropriate format;requests for the getting the data from the url;lxml convert the attr of the site to the format that we can get the data;random getting the new prediction randomly-\"Take you chanse!\""
   ]
  },
  {
   "cell_type": "code",
   "execution_count": 1,
   "metadata": {},
   "outputs": [],
   "source": [
    "from bs4 import BeautifulSoup as bs\n",
    "from urllib2 import urlopen"
   ]
  },
  {
   "cell_type": "code",
   "execution_count": 2,
   "metadata": {},
   "outputs": [],
   "source": [
    "import requests as r\n",
    "import re\n",
    "import lxml\n",
    "import random"
   ]
  },
  {
   "cell_type": "code",
   "execution_count": null,
   "metadata": {},
   "outputs": [],
   "source": [
    "#Getting the data from this site that have enoght quotes for the future"
   ]
  },
  {
   "cell_type": "code",
   "execution_count": 3,
   "metadata": {},
   "outputs": [],
   "source": [
    "url=\"http://wisdomquotes.com/inspirational-quotes/\"\n",
    "page=bs(urlopen(url))#openning the url\n",
    "parag = page.find_all('blockquote')#find the location of the quote\n",
    "quotes=[]\n",
    "for p in parag:\n",
    "    a = p.find('p').text\n",
    "    quotes.append(a)"
   ]
  },
  {
   "cell_type": "code",
   "execution_count": 4,
   "metadata": {
    "scrolled": true
   },
   "outputs": [
    {
     "name": "stdout",
     "output_type": "stream",
     "text": [
      "619\n"
     ]
    }
   ],
   "source": [
    "print(len(quotes))# define the amound of items in the list"
   ]
  },
  {
   "cell_type": "code",
   "execution_count": 45,
   "metadata": {},
   "outputs": [],
   "source": [
    "class Take_your_chanse():\n",
    "    def __init__(self):\n",
    "#First find out the name of the user that we can use in future        \n",
    "        print(\"Let\\'s start.Enter your name:\")\n",
    "        x = raw_input()\n",
    "        print(\"Hello, \" + str(x))        \n",
    "#Define the day of birth to get to know more about the user\n",
    "        day=int(input(\"Enter the day when you born:\"))\n",
    "        if day in range(1,32):\n",
    "            print(str(day)+\" is a very lucky day.\"+\"Let\\'s see what 2019 year will advice to you\")\n",
    "        else:\n",
    "            print(str(day)+\" is out of range\")\n",
    "#Print a random choosen quote for the user           \n",
    "        print(\"Here is the prediction quote for you: \"+ str(x) +\"  \"+\"'\"+str(random.choice(quotes))+\"'\")\n",
    "        "
   ]
  },
  {
   "cell_type": "code",
   "execution_count": 46,
   "metadata": {},
   "outputs": [
    {
     "name": "stdout",
     "output_type": "stream",
     "text": [
      "Let's start.Enter your name:\n",
      "Kate\n",
      "Hello, Kate\n",
      "Enter the day when you born:13\n",
      "13 is a very lucky day.Let's see what 2019 year will advice to you\n",
      "Here is the prediction quote for you: Kate  'Some are born great, others achieve greatness. William Shakespeare'\n"
     ]
    }
   ],
   "source": [
    "sample=Take_your_chanse()"
   ]
  },
  {
   "cell_type": "markdown",
   "metadata": {},
   "source": [
    "## Thanks) Waiting for the insight how to broaden the code"
   ]
  }
 ],
 "metadata": {
  "kernelspec": {
   "display_name": "Python 2",
   "language": "python",
   "name": "python2"
  },
  "language_info": {
   "codemirror_mode": {
    "name": "ipython",
    "version": 2
   },
   "file_extension": ".py",
   "mimetype": "text/x-python",
   "name": "python",
   "nbconvert_exporter": "python",
   "pygments_lexer": "ipython2",
   "version": "2.7.15"
  }
 },
 "nbformat": 4,
 "nbformat_minor": 2
}
